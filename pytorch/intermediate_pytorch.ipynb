{
 "cells": [
  {
   "cell_type": "code",
   "execution_count": 14,
   "id": "initial_id",
   "metadata": {
    "collapsed": true,
    "ExecuteTime": {
     "end_time": "2024-03-06T12:57:34.727131Z",
     "start_time": "2024-03-06T12:57:34.716744Z"
    }
   },
   "outputs": [],
   "source": [
    "import pandas as pd\n",
    "from torch.utils.data import Dataset\n",
    "\n",
    "\n",
    "class WaterDataset(Dataset):\n",
    "    def __init__(self, csv_path):\n",
    "        super().__init__()\n",
    "        # Load data to pandas DataFrame\n",
    "        df = pd.read_csv(csv_path)\n",
    "        # Convert data to a NumPy array and assign to self.data\n",
    "        self.data = df.to_numpy().astype(float)\n",
    "\n",
    "    # Implement __len__ to return the number of data samples\n",
    "    def __len__(self):\n",
    "        return self.data.shape[0]\n",
    "\n",
    "    def __getitem__(self, idx):\n",
    "        features = self.data[idx, :-1]\n",
    "        # Assign last data column to label\n",
    "        label = self.data[idx, -1]\n",
    "        return features, label"
   ]
  },
  {
   "cell_type": "code",
   "outputs": [
    {
     "name": "stdout",
     "output_type": "stream",
     "text": [
      "tensor([[0.4077, 0.3888, 0.3353, 0.4676, 0.5752, 0.5531, 0.4969, 0.6225, 0.5339],\n",
      "        [0.4026, 0.4616, 0.4695, 0.3764, 0.5797, 0.2016, 0.4102, 0.2095, 0.5361]],\n",
      "       dtype=torch.float64) tensor([0., 1.], dtype=torch.float64)\n"
     ]
    }
   ],
   "source": [
    "from torch.utils.data import DataLoader\n",
    "\n",
    "# Create an instance of the WaterDataset\n",
    "dataset_train = WaterDataset('water_potability/water_train.csv')\n",
    "\n",
    "# Create a DataLoader based on dataset_train\n",
    "dataloader_train = DataLoader(\n",
    "    dataset_train,\n",
    "    batch_size=2,\n",
    "    shuffle=True,\n",
    ")\n",
    "\n",
    "# Get a batch of features and labels\n",
    "features, labels = next(iter(dataloader_train))\n",
    "print(features, labels)"
   ],
   "metadata": {
    "collapsed": false,
    "ExecuteTime": {
     "end_time": "2024-03-06T13:04:29.799597Z",
     "start_time": "2024-03-06T13:04:29.754459Z"
    }
   },
   "id": "eb51e53a721f88f6",
   "execution_count": 27
  },
  {
   "cell_type": "code",
   "outputs": [],
   "source": [
    "import torch.nn as nn\n",
    "\n",
    "\n",
    "class Net(nn.Module):\n",
    "    def __init__(self):\n",
    "        super(Net, self).__init__()\n",
    "        # Define the three linear layers\n",
    "        self.fc1 = nn.Linear(9, 16)\n",
    "        self.fc2 = nn.Linear(16, 8)\n",
    "        self.fc3 = nn.Linear(8, 1)\n",
    "\n",
    "    def forward(self, x):\n",
    "        # Pass x through linear layers adding activations\n",
    "        x = nn.functional.relu(self.fc1(x))\n",
    "        x = nn.functional.relu(self.fc2(x))\n",
    "        x = nn.functional.sigmoid(self.fc3(x))\n",
    "        return x"
   ],
   "metadata": {
    "collapsed": false,
    "ExecuteTime": {
     "end_time": "2024-03-06T13:04:30.507668Z",
     "start_time": "2024-03-06T13:04:30.492976Z"
    }
   },
   "id": "2abd7778f3d13c4",
   "execution_count": 28
  },
  {
   "cell_type": "code",
   "outputs": [],
   "source": [
    "def train_model(optimizer, net, num_epochs):\n",
    "    criterion = nn.BCELoss()\n",
    "    for epoch in range(num_epochs):\n",
    "        running_loss = 0.\n",
    "        for features, labels in dataloader_train:\n",
    "            optimizer.zero_grad()\n",
    "            outputs = net(features.float())\n",
    "            loss = criterion(outputs, labels.float().view(-1, 1))\n",
    "            loss.backward()\n",
    "            optimizer.step()\n",
    "            running_loss += loss.item()\n",
    "    train_loss = running_loss / len(dataloader_train)\n",
    "    print(f\"Training loss after {num_epochs} epochs: {train_loss}\")"
   ],
   "metadata": {
    "collapsed": false,
    "ExecuteTime": {
     "end_time": "2024-03-06T13:04:30.787873Z",
     "start_time": "2024-03-06T13:04:30.758089Z"
    }
   },
   "id": "2b17b3532d9468c1",
   "execution_count": 29
  },
  {
   "cell_type": "code",
   "outputs": [
    {
     "name": "stdout",
     "output_type": "stream",
     "text": [
      "Training loss after 10 epochs: 0.673655244889879\n"
     ]
    }
   ],
   "source": [
    "import torch.optim as optim\n",
    "\n",
    "net = Net()\n",
    "\n",
    "# Define the SGD optimizer\n",
    "optimizer = optim.SGD(net.parameters(), lr=0.001)\n",
    "\n",
    "train_model(\n",
    "    optimizer=optimizer,\n",
    "    net=net,\n",
    "    num_epochs=10,\n",
    ")"
   ],
   "metadata": {
    "collapsed": false,
    "ExecuteTime": {
     "end_time": "2024-03-06T13:04:37.779004Z",
     "start_time": "2024-03-06T13:04:31.063926Z"
    }
   },
   "id": "c56630d25fe5097b",
   "execution_count": 30
  },
  {
   "cell_type": "code",
   "outputs": [
    {
     "name": "stdout",
     "output_type": "stream",
     "text": [
      "Training loss after 10 epochs: 0.6716785424584103\n"
     ]
    }
   ],
   "source": [
    "# Define the RMSprop optimizer\n",
    "optimizer = optim.RMSprop(net.parameters(), lr=0.001)\n",
    "\n",
    "train_model(\n",
    "    optimizer=optimizer,\n",
    "    net=net,\n",
    "    num_epochs=10,\n",
    ")"
   ],
   "metadata": {
    "collapsed": false,
    "ExecuteTime": {
     "end_time": "2024-03-06T13:04:45.718814Z",
     "start_time": "2024-03-06T13:04:37.773150Z"
    }
   },
   "id": "a0c0e58bb38c4a2d",
   "execution_count": 31
  },
  {
   "cell_type": "code",
   "outputs": [
    {
     "name": "stdout",
     "output_type": "stream",
     "text": [
      "Training loss after 10 epochs: 0.658821379237213\n"
     ]
    }
   ],
   "source": [
    "# Define the Adam optimizer\n",
    "optimizer = optim.Adam(net.parameters(), lr=0.001)\n",
    "\n",
    "train_model(\n",
    "    optimizer=optimizer,\n",
    "    net=net,\n",
    "    num_epochs=10,\n",
    ")"
   ],
   "metadata": {
    "collapsed": false,
    "ExecuteTime": {
     "end_time": "2024-03-06T13:04:56.525153Z",
     "start_time": "2024-03-06T13:04:45.709375Z"
    }
   },
   "id": "7c37b88a7efab8c0",
   "execution_count": 32
  },
  {
   "cell_type": "code",
   "outputs": [
    {
     "data": {
      "text/plain": "[tensor([[0.6762, 0.6174, 0.5584, 0.9035, 0.5294, 0.5296, 0.6810, 0.6309, 0.3726],\n         [0.5324, 0.6141, 0.2567, 0.4551, 0.6904, 0.5070, 0.2701, 0.4640, 0.5566]],\n        dtype=torch.float64),\n tensor([1., 1.], dtype=torch.float64)]"
     },
     "execution_count": 36,
     "metadata": {},
     "output_type": "execute_result"
    }
   ],
   "source": [
    "dataset_test = WaterDataset('water_potability/water_test.csv')\n",
    "\n",
    "# Create a DataLoader based on dataset_test\n",
    "dataloader_test = DataLoader(\n",
    "    dataset_test,\n",
    "    batch_size=2,\n",
    "    shuffle=True,\n",
    ")\n",
    "next(iter(dataloader_test))"
   ],
   "metadata": {
    "collapsed": false,
    "ExecuteTime": {
     "end_time": "2024-03-06T13:07:26.675964Z",
     "start_time": "2024-03-06T13:07:26.634333Z"
    }
   },
   "id": "6b955aa54ddaf1ea",
   "execution_count": 36
  },
  {
   "cell_type": "code",
   "outputs": [
    {
     "name": "stdout",
     "output_type": "stream",
     "text": [
      "Test accuracy: 0.5944334268569946\n"
     ]
    }
   ],
   "source": [
    "import torch\n",
    "from torchmetrics import Accuracy\n",
    "\n",
    "def compute_acc(dataloader, model):\n",
    "    # Set up binary accuracy metric\n",
    "    acc = Accuracy(task='binary')\n",
    "    model.eval()\n",
    "    with torch.no_grad():\n",
    "        for features, labels in dataloader:\n",
    "            # Get predicted probabilities for test data batch\n",
    "            outputs = model(features.float())\n",
    "            preds = (outputs >= 0.5).float()\n",
    "            acc(preds, labels.view(-1, 1))\n",
    "    \n",
    "    # Compute total test accuracy\n",
    "    test_accuracy = acc.compute()\n",
    "    print(f\"Test accuracy: {test_accuracy}\")\n",
    "compute_acc(dataloader_test, net)    "
   ],
   "metadata": {
    "collapsed": false,
    "ExecuteTime": {
     "end_time": "2024-03-06T13:19:47.260588Z",
     "start_time": "2024-03-06T13:19:46.539346Z"
    }
   },
   "id": "a12fb741bf2e284c",
   "execution_count": 40
  },
  {
   "cell_type": "code",
   "outputs": [],
   "source": [
    "from torch.nn import init\n",
    "\n",
    "\n",
    "class ImprovedNet(nn.Module):\n",
    "    def __init__(self):\n",
    "        super(ImprovedNet, self).__init__()\n",
    "        self.fc1 = nn.Linear(9, 16)\n",
    "        self.fc2 = nn.Linear(16, 8)\n",
    "        self.fc3 = nn.Linear(8, 1)\n",
    "        # Add two batch normalization layers\n",
    "        self.bn1 = nn.BatchNorm1d(16)\n",
    "        self.bn2 = nn.BatchNorm1d(8)\n",
    "        # Apply He initialization\n",
    "        init.kaiming_uniform_(self.fc1.weight)\n",
    "        init.kaiming_uniform_(self.fc2.weight)\n",
    "        init.kaiming_uniform_(self.fc3.weight, nonlinearity='sigmoid')\n",
    "\n",
    "    def forward(self, x):\n",
    "        x = self.fc1(x)\n",
    "        x = self.bn1(x)\n",
    "        x = nn.functional.elu(x)\n",
    "\n",
    "        # Pass x through the second set of layers\n",
    "        x = self.fc2(x)\n",
    "        x = self.bn2(x)\n",
    "        x = nn.functional.elu(x)\n",
    "\n",
    "        x = nn.functional.sigmoid(self.fc3(x))\n",
    "        return x"
   ],
   "metadata": {
    "collapsed": false,
    "ExecuteTime": {
     "end_time": "2024-03-06T13:13:58.648955Z",
     "start_time": "2024-03-06T13:13:58.625296Z"
    }
   },
   "id": "99e768461b0e7fb6",
   "execution_count": 38
  },
  {
   "cell_type": "code",
   "outputs": [
    {
     "name": "stdout",
     "output_type": "stream",
     "text": [
      "Training loss after 100 epochs: 0.6760912502001705\n"
     ]
    }
   ],
   "source": [
    "improved_net = ImprovedNet()\n",
    "train_model(\n",
    "    optimizer=optimizer,\n",
    "    net=improved_net,\n",
    "    num_epochs=100,\n",
    ")"
   ],
   "metadata": {
    "collapsed": false,
    "ExecuteTime": {
     "end_time": "2024-03-06T13:22:02.392998Z",
     "start_time": "2024-03-06T13:20:57.902322Z"
    }
   },
   "id": "8cae0425f8f2f87f",
   "execution_count": 43
  },
  {
   "cell_type": "code",
   "outputs": [
    {
     "name": "stdout",
     "output_type": "stream",
     "text": [
      "Test accuracy: 0.5904572606086731\n"
     ]
    }
   ],
   "source": [
    "compute_acc(dataloader_test, improved_net)"
   ],
   "metadata": {
    "collapsed": false,
    "ExecuteTime": {
     "end_time": "2024-03-06T13:22:12.829262Z",
     "start_time": "2024-03-06T13:22:12.189517Z"
    }
   },
   "id": "3e71fc3a168d213d",
   "execution_count": 44
  },
  {
   "cell_type": "code",
   "outputs": [],
   "source": [],
   "metadata": {
    "collapsed": false
   },
   "id": "9124fc4c08d57bde"
  }
 ],
 "metadata": {
  "kernelspec": {
   "display_name": "Python 3",
   "language": "python",
   "name": "python3"
  },
  "language_info": {
   "codemirror_mode": {
    "name": "ipython",
    "version": 2
   },
   "file_extension": ".py",
   "mimetype": "text/x-python",
   "name": "python",
   "nbconvert_exporter": "python",
   "pygments_lexer": "ipython2",
   "version": "2.7.6"
  }
 },
 "nbformat": 4,
 "nbformat_minor": 5
}
